{
 "cells": [
  {
   "cell_type": "code",
   "execution_count": 2,
   "id": "3617d7ce-c8ac-45b3-b4c2-b5916436b24f",
   "metadata": {},
   "outputs": [],
   "source": [
    "#Q1\n",
    "'''\n",
    "Class\n",
    "A class defines the properties (attributes) and behaviors (methods) that the objects created from the class will have. \n",
    "It's like a blueprint for creating objects.\n",
    "Object\n",
    "An object is an instance of a class. When you create an object from a class, you are creating a specific instance of that class with its own unique set of data.\n",
    "'''\n",
    "class Car:\n",
    "    def __init__(self, make, model, year):\n",
    "        self.make = make\n",
    "        self.model = model\n",
    "        self.year = year\n",
    "\n",
    "    def start_engine(self):\n",
    "        print(f\"The engine of the {self.year} {self.make} {self.model} is now running.\")\n",
    "\n",
    "    def stop_engine(self):\n",
    "        print(f\"The engine of the {self.year} {self.make} {self.model} is now off.\")\n"
   ]
  },
  {
   "cell_type": "code",
   "execution_count": null,
   "id": "9cc567cf-b9b9-47b6-bc5d-113e84fa94d4",
   "metadata": {},
   "outputs": [],
   "source": [
    "#Q2\n",
    "'''\n",
    "Encapsulation\n",
    "Abstraction\n",
    "Inheritance\n",
    "Polymorphism\n",
    "'''"
   ]
  },
  {
   "cell_type": "code",
   "execution_count": null,
   "id": "a42177c4-3e1e-4600-a484-8f0e4f0a4092",
   "metadata": {},
   "outputs": [],
   "source": []
  },
  {
   "cell_type": "code",
   "execution_count": 9,
   "id": "d8c996bd-8772-4b50-bb05-3b80bb8030d7",
   "metadata": {},
   "outputs": [
    {
     "name": "stdout",
     "output_type": "stream",
     "text": [
      "'1984' by George Orwell, 328 pages long.\n",
      "'To Kill a Mockingbird' by Harper Lee, 281 pages long.\n"
     ]
    }
   ],
   "source": [
    "#Q3\n",
    "'''\n",
    "The __init__() function in Python is a special method called a constructor. It is automatically invoked when a new instance of a class is created. \n",
    "The primary purpose of the __init__() method is to initialize the object's attributes with user-provided values or default values.\n",
    "'''\n",
    "class Book:\n",
    "    def __init__(self, title, author, pages):\n",
    "        self.title = title\n",
    "        self.author = author\n",
    "        self.pages = pages\n",
    "\n",
    "    def description(self):\n",
    "        return f\"'{self.title}' by {self.author}, {self.pages} pages long.\"\n",
    "\n",
    "# Creating instances of the Book class\n",
    "book1 = Book(\"1984\", \"George Orwell\", 328)\n",
    "book2 = Book(\"To Kill a Mockingbird\", \"Harper Lee\", 281)\n",
    "\n",
    "# Using the methods of the Book objects\n",
    "print(book1.description())\n",
    "print(book2.description())\n"
   ]
  },
  {
   "cell_type": "code",
   "execution_count": null,
   "id": "72b7686d-f49c-4cb2-a535-07910458e172",
   "metadata": {},
   "outputs": [],
   "source": [
    "#Q4\n",
    "'''\n",
    "self allows you to access and modify the attributes of the instance.\n",
    "'''\n"
   ]
  },
  {
   "cell_type": "code",
   "execution_count": null,
   "id": "ea85aa7b-753c-428f-839b-7ceb8a59a14a",
   "metadata": {},
   "outputs": [],
   "source": [
    "#Q5\n",
    "#Inheritance is a fundamental concept in Object-Oriented Programming (OOP) that allows a class to inherit properties and behaviors (methods) from another class.\n",
    "'''\n",
    "Types of Inheritance\n",
    "Single Inheritance\n",
    "Multiple Inheritance\n",
    "Multilevel Inheritance\n",
    "Hierarchical Inheritance\n",
    "'''\n",
    "#single Inheritance\n",
    "class Animal:\n",
    "    def speak(self):\n",
    "        print(\"Animal speaks\")\n",
    "\n",
    "class Dog(Animal):\n",
    "    def bark(self):\n",
    "        print(\"Dog barks\")\n",
    "\n",
    "dog = Dog()\n",
    "dog.speak()  # Inherited method\n",
    "dog.bark()   # Own method\n",
    "\n",
    "#"
   ]
  }
 ],
 "metadata": {
  "kernelspec": {
   "display_name": "Python 3 (ipykernel)",
   "language": "python",
   "name": "python3"
  },
  "language_info": {
   "codemirror_mode": {
    "name": "ipython",
    "version": 3
   },
   "file_extension": ".py",
   "mimetype": "text/x-python",
   "name": "python",
   "nbconvert_exporter": "python",
   "pygments_lexer": "ipython3",
   "version": "3.10.8"
  }
 },
 "nbformat": 4,
 "nbformat_minor": 5
}
