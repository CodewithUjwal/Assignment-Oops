{
 "cells": [
  {
   "cell_type": "code",
   "execution_count": 10,
   "id": "0cdf9657-1f1b-4ba7-8222-4bacd5af977d",
   "metadata": {},
   "outputs": [
    {
     "data": {
      "text/plain": [
       "('nokota', 220, 125)"
      ]
     },
     "execution_count": 10,
     "metadata": {},
     "output_type": "execute_result"
    }
   ],
   "source": [
    "#Q1 \n",
    "class Vehicle:\n",
    "    def __init__(nikhil,name_of_vehicle,max_speed,avg_of_vehicle):\n",
    "        nikhil.name_of_vehicle= name_of_vehicle\n",
    "        nikhil.max_speed=max_speed\n",
    "        nikhil.avg_of_vehicle=avg_of_vehicle\n",
    "        \n",
    "    def vehicle_details(nikhil):\n",
    "        return nikhil.name_of_vehicle,nikhil.max_speed,nikhil.avg_of_vehicle\n",
    "    \n",
    "d = Vehicle('nokota', 220, 125)\n",
    "d.vehicle_details()"
   ]
  },
  {
   "cell_type": "code",
   "execution_count": 22,
   "id": "ab471f63-225d-4473-942b-9a23ecb5b8d6",
   "metadata": {},
   "outputs": [
    {
     "data": {
      "text/plain": [
       "(4, 'nokota')"
      ]
     },
     "execution_count": 22,
     "metadata": {},
     "output_type": "execute_result"
    }
   ],
   "source": [
    "#Q2\n",
    "class car(Vehicle):\n",
    "    \n",
    "    def __init__(self,name_of_vehicle ,capacity):\n",
    "        self.capacity=capacity\n",
    "        self.name_of_vehicle=name_of_vehicle\n",
    "        \n",
    "    def car_capacity(self):\n",
    "        \n",
    "        return self.capacity, self.name_of_vehicle\n",
    "d= car('nokota',4)\n",
    "d.car_capacity()\n",
    "        \n",
    "        "
   ]
  },
  {
   "cell_type": "code",
   "execution_count": 18,
   "id": "821e7a81-94c6-4b4f-b9a3-d38773865db8",
   "metadata": {},
   "outputs": [
    {
     "data": {
      "text/plain": [
       "'Name of the car is Nokota'"
      ]
     },
     "execution_count": 18,
     "metadata": {},
     "output_type": "execute_result"
    }
   ],
   "source": [
    "#d = car(4,'nokota',200)\n",
    "#d.seating_capacity(4)"
   ]
  },
  {
   "cell_type": "code",
   "execution_count": 45,
   "id": "b7b200d3-3b3f-4e93-9c8b-0fb5a4f7f16f",
   "metadata": {},
   "outputs": [],
   "source": [
    "#Q3\n",
    "#When a class can inherit more than one parent class\n",
    "\n",
    "class class1:\n",
    "    def test_class1(self):\n",
    "        return ' this is the method of class 1'\n",
    "    "
   ]
  },
  {
   "cell_type": "code",
   "execution_count": 46,
   "id": "ee028688-b004-459a-a636-d1a770a96a99",
   "metadata": {},
   "outputs": [],
   "source": [
    "class class2:\n",
    "    def test_class2(self):\n",
    "        \n",
    "        return ' this is the method of class 2'\n",
    "    "
   ]
  },
  {
   "cell_type": "code",
   "execution_count": 47,
   "id": "a7fff628-dc2f-482c-8434-ab69d1ef3686",
   "metadata": {},
   "outputs": [
    {
     "data": {
      "text/plain": [
       "' this is the method of class 1'"
      ]
     },
     "execution_count": 47,
     "metadata": {},
     "output_type": "execute_result"
    }
   ],
   "source": [
    "class class3(class1, class2):\n",
    "    pass\n",
    "d = class3()\n",
    "d.test_class1()"
   ]
  },
  {
   "cell_type": "code",
   "execution_count": 34,
   "id": "115c47c2-6bcc-4ad7-b022-f4711d3c40c5",
   "metadata": {},
   "outputs": [
    {
     "data": {
      "text/plain": [
       "' this the method of class 2'"
      ]
     },
     "execution_count": 34,
     "metadata": {},
     "output_type": "execute_result"
    }
   ],
   "source": [
    "d.test_class2()"
   ]
  },
  {
   "cell_type": "code",
   "execution_count": 1,
   "id": "10daf3de-8f40-4f8d-a994-3150fbeb013e",
   "metadata": {},
   "outputs": [
    {
     "name": "stdout",
     "output_type": "stream",
     "text": [
      "Nikhil my gonna make air 1 in gate 2024\n",
      "Obviously he's gonna make because ujwal sacrifices his air 1\n"
     ]
    }
   ],
   "source": [
    "#q4\n",
    "class parent:\n",
    "    def __init__(self):\n",
    "        self.value = 'Nikhil my gonna make air 1 in gate 2024'\n",
    "    def show(self):\n",
    "        print(self.value)\n",
    "        \n",
    "class child(parent):\n",
    "    def __init__(self):\n",
    "        self.value = \"Obviously he's gonna make because ujwal sacrifices his air 1\"\n",
    "    def show(self):\n",
    "        print(self.value)\n",
    "        \n",
    "a=parent()\n",
    "b=child()\n",
    "\n",
    "a.show()\n",
    "b.show()"
   ]
  },
  {
   "cell_type": "code",
   "execution_count": null,
   "id": "6c6f4c15-176e-476a-91a9-5392bb232499",
   "metadata": {},
   "outputs": [],
   "source": []
  }
 ],
 "metadata": {
  "kernelspec": {
   "display_name": "Python 3 (ipykernel)",
   "language": "python",
   "name": "python3"
  },
  "language_info": {
   "codemirror_mode": {
    "name": "ipython",
    "version": 3
   },
   "file_extension": ".py",
   "mimetype": "text/x-python",
   "name": "python",
   "nbconvert_exporter": "python",
   "pygments_lexer": "ipython3",
   "version": "3.10.8"
  }
 },
 "nbformat": 4,
 "nbformat_minor": 5
}
