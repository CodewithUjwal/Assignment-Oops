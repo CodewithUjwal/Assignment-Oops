{
 "cells": [
  {
   "cell_type": "code",
   "execution_count": 2,
   "id": "3617d7ce-c8ac-45b3-b4c2-b5916436b24f",
   "metadata": {},
   "outputs": [],
   "source": [
    "#Q1\n",
    "'''\n",
    "Abstraction is one of the fundamental principles of Object-Oriented Programming (OOP). \n",
    "It refers to the concept of hiding the complex implementation details and showing only the essential features of an object.\n",
    "'''\n",
    "from abc import ABC, abstractmethod\n",
    "\n",
    "class Shape(ABC):\n",
    "    @abstractmethod\n",
    "    def area(self):\n",
    "        pass\n",
    "\n",
    "    @abstractmethod\n",
    "    def perimeter(self):\n",
    "        pass\n"
   ]
  },
  {
   "cell_type": "code",
   "execution_count": null,
   "id": "9cc567cf-b9b9-47b6-bc5d-113e84fa94d4",
   "metadata": {},
   "outputs": [],
   "source": [
    "#Q2\n",
    "'''\n",
    "Abstraction is the concept of hiding the complex implementation details and showing only the essential features of an object\n",
    "'''\n",
    "from abc import ABC, abstractmethod\n",
    "\n",
    "class Animal(ABC):\n",
    "    @abstractmethod\n",
    "    def sound(self):\n",
    "        pass\n",
    "\n",
    "class Dog(Animal):\n",
    "    def sound(self):\n",
    "        return \"Bark\"\n",
    "\n",
    "class Cat(Animal):\n",
    "    def sound(self):\n",
    "        return \"Meow\"\n",
    "\n",
    "# Usage\n",
    "dog = Dog()\n",
    "cat = Cat()\n",
    "print(dog.sound())  # Output: Bark\n",
    "print(cat.sound())  # Output: Meow\n",
    "\n",
    "\n",
    "'''\n",
    "Encapsulation is the concept of bundling data (attributes) and methods (functions) that operate on the data into a single unit or class.\n",
    "'''\n",
    "class Person:\n",
    "    def __init__(self, name, age):\n",
    "        self.__name = name  # Private attribute\n",
    "        self.__age = age    # Private attribute\n",
    "\n",
    "    def get_name(self):\n",
    "        return self.__name\n",
    "\n",
    "    def set_name(self, name):\n",
    "        self.__name = name\n",
    "\n",
    "    def get_age(self):\n",
    "        return self.__age\n",
    "\n",
    "    def set_age(self, age):\n",
    "        if age > 0:\n",
    "            self.__age = age\n",
    "        else:\n",
    "            raise ValueError(\"Age must be positive\")\n",
    "\n",
    "# Usage\n",
    "person = Person(\"John\", 30)\n",
    "print(person.get_name())  # Output: John\n",
    "print(person.get_age())   # Output: 30\n",
    "\n",
    "person.set_age(31)\n",
    "print(person.get_age())   # Output: 31\n",
    "\n"
   ]
  },
  {
   "cell_type": "code",
   "execution_count": null,
   "id": "a42177c4-3e1e-4600-a484-8f0e4f0a4092",
   "metadata": {},
   "outputs": [],
   "source": [
    "#Q3\n",
    "'''\n",
    "The abc module in Python stands for \"Abstract Base Classes.\" It is a module that provides tools for defining abstract base classes.\n",
    "'''\n"
   ]
  },
  {
   "cell_type": "code",
   "execution_count": null,
   "id": "28c13315-04f3-45f4-96be-7e06239b3e67",
   "metadata": {},
   "outputs": [],
   "source": [
    "#Q4\n",
    "#Abstract Data Types (ADTs)"
   ]
  }
 ],
 "metadata": {
  "kernelspec": {
   "display_name": "Python 3 (ipykernel)",
   "language": "python",
   "name": "python3"
  },
  "language_info": {
   "codemirror_mode": {
    "name": "ipython",
    "version": 3
   },
   "file_extension": ".py",
   "mimetype": "text/x-python",
   "name": "python",
   "nbconvert_exporter": "python",
   "pygments_lexer": "ipython3",
   "version": "3.10.8"
  }
 },
 "nbformat": 4,
 "nbformat_minor": 5
}
